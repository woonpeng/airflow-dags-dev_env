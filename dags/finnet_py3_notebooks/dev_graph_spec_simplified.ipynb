{
 "cells": [
  {
   "cell_type": "code",
   "execution_count": 1,
   "metadata": {},
   "outputs": [],
   "source": [
    "import os\n",
    "from collections import Counter, OrderedDict\n",
    "\n",
    "from croniter import (CroniterBadCronError, CroniterBadDateError,\n",
    "                      CroniterNotAlphaError, croniter)\n",
    "from marshmallow import (Schema, ValidationError, fields, post_dump,\n",
    "                         validates_schema)\n",
    "\n",
    "from uuid import uuid4"
   ]
  },
  {
   "cell_type": "code",
   "execution_count": 2,
   "metadata": {},
   "outputs": [],
   "source": [
    "def validate_cron(expression):\n",
    "    \"\"\"Validate cron format\"\"\"\n",
    "    try:\n",
    "        _ = croniter(expression)\n",
    "    except (CroniterNotAlphaError, CroniterBadDateError, CroniterBadCronError):\n",
    "        raise ValidationError(\"Invalid cron expression.\")\n",
    "\n",
    "### Why just these 3???\n",
    "def validate_variable_definition(text):\n",
    "    \"\"\"Validate variable definition field.\"\"\"\n",
    "    if text not in ['String', 'Price', 'Categorical']:\n",
    "        message = \"Variable definition must be \" \\\n",
    "                  \"'String', 'Price' or 'Categorical'.\"\n",
    "        raise ValidationError(message)"
   ]
  },
  {
   "cell_type": "code",
   "execution_count": 3,
   "metadata": {},
   "outputs": [],
   "source": [
    "# pylint: disable=no-init\n",
    "class NoNullDump(object):  # pylint: disable= too-few-public-methods\n",
    "    \"\"\" Strip null values before dumping \"\"\"\n",
    "    # pylint: disable=no-self-use\n",
    "    @post_dump\n",
    "    def strip_null(self, data):\n",
    "        \"\"\" Strip null values before dumping \"\"\"\n",
    "        return {k: v for (k, v) in data.items() if v is not None}\n",
    "    \n",
    "\n",
    "class ColumnSchema(Schema, NoNullDump):\n",
    "    \"\"\" Basic column schema \"\"\"\n",
    "    name = fields.Str(required=True)\n",
    "    friendly_name = fields.Str()\n",
    "    variable_definition = fields.Str(validate=validate_variable_definition)\n",
    "    resolution_alias = fields.Str()\n",
    "    hidden = fields.Bool(default=False)\n",
    "    use_as_label = fields.Bool(default=False)\n",
    "    \n",
    "    \n",
    "class IndexSchema(Schema, NoNullDump):\n",
    "    \"\"\" Basic index column schema, similar to column \"\"\"\n",
    "    name = fields.Str(required=True)\n",
    "    friendly_name = fields.Str()\n",
    "    variable_definition = fields.Str(validate=validate_variable_definition)\n",
    "    resolution_alias = fields.Str()\n",
    "\n",
    "\n",
    "# FIXME: Why is it called a NodeList???\n",
    "class NodeListSchema(Schema, NoNullDump):\n",
    "    \"\"\" NodeList list schema \"\"\"\n",
    "    name = fields.Str(required=True)\n",
    "    table_name = fields.Str(required=True)\n",
    "    index_column = fields.Nested(IndexSchema, required=True)\n",
    "    metadata_columns = fields.Nested(ColumnSchema, many=True, required=False)\n",
    "    labels = fields.List(fields.Str(), required=False)\n",
    "\n",
    "\n",
    "class EdgeListSchema(Schema, NoNullDump):\n",
    "    \"\"\" Edge list schema \"\"\"\n",
    "    name = fields.Str(required=True)\n",
    "    table_name = fields.Str(required=True)\n",
    "    merge_same = fields.Bool(default=True)\n",
    "    directed = fields.Bool(default=True)\n",
    "    # FIXME: deprecate index column? IDK...\n",
    "    index_column = fields.Nested(IndexSchema, required=False)\n",
    "    source_column = fields.Nested(IndexSchema, required=True)\n",
    "    target_column = fields.Nested(IndexSchema, required=True)\n",
    "    weight_column = fields.Nested(ColumnSchema, required=False)\n",
    "    metadata_columns = fields.Nested(ColumnSchema, many=True, required=False)\n",
    "    source_metadata_columns = fields.Nested(ColumnSchema, many=True, required=False)\n",
    "    target_metadata_columns = fields.Nested(ColumnSchema, many=True, required=False)\n",
    "    labels = fields.List(fields.Str())\n",
    "    source_labels = fields.List(fields.Str())\n",
    "    target_labels = fields.List(fields.Str())\n",
    "    edge_category = fields.Str()\n",
    "\n",
    "\n",
    "class CommunityListSchema(Schema, NoNullDump):\n",
    "    \"\"\" Community list schema \"\"\"\n",
    "    name = fields.Str(required=True)\n",
    "    table_name = fields.Str(required=True)\n",
    "    index_column = fields.Nested(IndexSchema, required=True)\n",
    "    metadata_columns = fields.Nested(ColumnSchema, many=True, required=False)\n",
    "    labels = fields.List(fields.Str())\n",
    "    grouping_columns = fields.Nested(ColumnSchema, many=True, required=True)\n",
    "    edge_labels = fields.List(fields.Str())\n",
    "    edge_metadata_columns = fields.Nested(ColumnSchema, many=True, required=False)\n",
    "    edge_category = fields.Str()\n",
    "\n",
    "    @validates_schema\n",
    "    def check_grouping_columns(self, data):  # pylint: disable=no-self-use\n",
    "        \"\"\"checks at least one grouping column\"\"\"\n",
    "        if len(data[\"grouping_columns\"]) < 1:\n",
    "            raise ValidationError(\"Require 1 or more grouping column(s)\")\n",
    "\n",
    "\n",
    "# pylint: disable=no-self-use\n",
    "class GraphSchema(Schema, NoNullDump):\n",
    "    \"\"\" Graph specification schema \"\"\"\n",
    "    name = fields.Str(required=True)\n",
    "    data_uri = fields.Str(required=False)\n",
    "    data_uri_env = fields.Str(required=False)\n",
    "    graph_uri = fields.Str(required=False)\n",
    "    graph_uri_env = fields.Str(required=False)\n",
    "    poll = fields.Str(required=True, validate=validate_cron)\n",
    "    node_lists = fields.Nested(NodeListSchema, many=True, required=False)\n",
    "    edge_lists = fields.Nested(EdgeListSchema, many=True, required=False)\n",
    "    community_lists = fields.Nested(CommunityListSchema, many=True, required=False)\n",
    "\n",
    "    @validates_schema\n",
    "    def check_uri_and_env(self, data):  # pylint: disable=no-self-use\n",
    "        \"\"\" Additional validation \"\"\"\n",
    "        # ensure that not both the URI and environment variables are specified\n",
    "        # and at least one of them is specified\n",
    "        for uri, uri_env in [('data_uri', 'data_uri_env'),\n",
    "                             ('graph_uri', 'graph_uri_env')]:\n",
    "\n",
    "            if uri in data and uri_env in data:\n",
    "                raise ValidationError(\n",
    "                    'Graph specification cannot contain both {uri} and '\n",
    "                    '{uri_env}. Only one of them should be specified.'\n",
    "                    .format(uri=uri, uri_env=uri_env))\n",
    "            elif uri not in data and uri_env not in data:\n",
    "                raise ValidationError(\n",
    "                    'Graph specification should contain at least {uri} or '\n",
    "                    '{uri_env}.'\n",
    "                    .format(uri=uri, uri_env=uri_env))"
   ]
  },
  {
   "cell_type": "code",
   "execution_count": 4,
   "metadata": {},
   "outputs": [],
   "source": [
    "def from_dict_generic(data, schema, clsobj):\n",
    "    \"\"\"Generic implementation taking schema-conforming data and instatiating class.\"\"\"\n",
    "    if data:\n",
    "        validated_data, errors = schema().load(data)\n",
    "        if errors:\n",
    "            raise ValueError(errors)\n",
    "        return clsobj(**validated_data)\n",
    "    else:\n",
    "        return None\n",
    "\n",
    "def to_dict_generic(schema, clsobj):\n",
    "    \"\"\"Reverse of 'from_dict' with additional auto-generated fields.\"\"\"\n",
    "    data, errors = schema().dump(clsobj)\n",
    "    if errors:\n",
    "        raise ValueError(errors)\n",
    "    else:\n",
    "        return data"
   ]
  },
  {
   "cell_type": "code",
   "execution_count": 5,
   "metadata": {},
   "outputs": [],
   "source": [
    "class ColumnSpec(object):\n",
    "    \"\"\"Column specification model\"\"\"\n",
    "    # pylint: disable=too-many-arguments\n",
    "    def __init__(self, **kwargs):\n",
    "        self.name = kwargs[\"name\"]\n",
    "        self.friendly_name = kwargs.get(\"friendly_name\")\n",
    "        self.variable_definition = kwargs.get(\"variable_definition\")\n",
    "        self.resolution_alias = kwargs.get(\"resolution_alias\")\n",
    "        self.hidden = kwargs.get(\"hidden\") or False\n",
    "        self.use_as_label = kwargs.get(\"use_as_label\") or False\n",
    "        \n",
    "    @classmethod\n",
    "    def from_dict(cls, data):\n",
    "        return from_dict_generic(data, ColumnSchema, cls)\n",
    "    \n",
    "    def to_dict(self):\n",
    "        return to_dict_generic(ColumnSchema, self)"
   ]
  },
  {
   "cell_type": "code",
   "execution_count": 6,
   "metadata": {},
   "outputs": [],
   "source": [
    "class BaseListSpec(object):\n",
    "    \"\"\"Base list specification\"\"\"\n",
    "    # pylint: disable=too-many-arguments\n",
    "    def __init__(self, **kwargs):\n",
    "        self.name = kwargs[\"name\"]\n",
    "        self.table_name = kwargs[\"table_name\"]\n",
    "        self.index_column = ColumnSpec.from_dict(kwargs.get(\"index_column\"))\n",
    "        self.metadata_columns = [\n",
    "            ColumnSpec.from_dict(col) for col in kwargs.get(\"metadata_columns\") or []\n",
    "        ]\n",
    "        self.labels = kwargs.get(\"labels\") or []"
   ]
  },
  {
   "cell_type": "code",
   "execution_count": 7,
   "metadata": {},
   "outputs": [],
   "source": [
    "class NodeListSpec(BaseListSpec):\n",
    "    \"\"\"Node list specification\"\"\"\n",
    "    # pylint: disable=too-many-arguments\n",
    "    def __init__(self, **kwargs):\n",
    "        super(NodeListSpec, self).__init__(**kwargs)\n",
    "        \n",
    "    @classmethod\n",
    "    def from_dict(cls, data):\n",
    "        return from_dict_generic(data, NodeListSchema, cls)\n",
    "    \n",
    "    def to_dict(self):\n",
    "        return to_dict_generic(NodeListSchema, self)"
   ]
  },
  {
   "cell_type": "code",
   "execution_count": 8,
   "metadata": {},
   "outputs": [],
   "source": [
    "class EdgeListSpec(BaseListSpec):\n",
    "    \"\"\"Edge list specification\"\"\"\n",
    "    # pylint: disable=too-many-arguments\n",
    "    def __init__(self, **kwargs):\n",
    "        super(EdgeListSpec, self).__init__(**kwargs)\n",
    "        # merge_same\n",
    "        self.directed = kwargs.get(\"directed\") or True\n",
    "        self.source_column = ColumnSpec.from_dict(kwargs[\"source_column\"])\n",
    "        self.target_column = ColumnSpec.from_dict(kwargs[\"target_column\"])\n",
    "        # weight_column\n",
    "        self.source_metadata_columns = [\n",
    "            ColumnSpec.from_dict(col) for col in kwargs.get(\"source_metadata_columns\") or []\n",
    "        ]\n",
    "        self.target_metadata_columns = [\n",
    "            ColumnSpec.from_dict(col) for col in kwargs.get(\"target_metadata_columns\") or []\n",
    "        ]\n",
    "        self.source_labels = kwargs.get(\"source_labels\") or []\n",
    "        self.target_labels = kwargs.get(\"target_labels\") or []\n",
    "        self.edge_category = kwargs.get(\"edge_category\") or str(uuid4())\n",
    "        \n",
    "    @classmethod\n",
    "    def from_dict(cls, data):\n",
    "        return from_dict_generic(data, EdgeListSchema, cls)\n",
    "    \n",
    "    def to_dict(self):\n",
    "        return to_dict_generic(EdgeListSchema, self)"
   ]
  },
  {
   "cell_type": "code",
   "execution_count": 9,
   "metadata": {},
   "outputs": [],
   "source": [
    "class CommunityListSpec(BaseListSpec):\n",
    "    \"\"\"Community list model - list of nodes to the community group they belong to\"\"\"\n",
    "    # pylint: disable=too-many-arguments\n",
    "    def __init__(self, **kwargs):\n",
    "        super(CommunityListSpec, self).__init__(**kwargs)\n",
    "        self.grouping_columns = kwargs[\"grouping_columns\"]\n",
    "        self.edge_labels = kwargs.get(\"edge_labels\") or []\n",
    "        self.edge_metadata_columns = [\n",
    "            ColumnSpec.from_dict(col) for col in kwargs.get(\"edge_metadata_columns\") or []\n",
    "        ]\n",
    "        self.edge_category = kwargs.get(\"edge_category\") or str(uuid4())\n",
    "        \n",
    "    @classmethod\n",
    "    def from_dict(cls, data):\n",
    "        return from_dict_generic(data, CommunityListSchema, cls)\n",
    "    \n",
    "    def to_dict(self):\n",
    "        return to_dict_generic(CommunityListSchema, self)"
   ]
  },
  {
   "cell_type": "code",
   "execution_count": 10,
   "metadata": {},
   "outputs": [],
   "source": [
    "class GraphSpec(object):\n",
    "    \"\"\"Graph specification model\"\"\"\n",
    "    # pylint: disable=too-many-instance-attributes\n",
    "    def __init__(self, **kwargs):\n",
    "        self.name = kwargs[\"name\"]\n",
    "        self.data_uri = kwargs.get(\"data_uri\") or os.environ.get(kwargs.get(\"data_uri_env\"))\n",
    "        self.graph_uri = kwargs.get(\"graph_uri\") or os.environ.get(kwargs.get(\"graph_uri_env\"))\n",
    "        self.poll = kwargs.get(\"poll\") or \"0 0 * * *\"\n",
    "        self.node_lists = [\n",
    "            NodeListSpec.from_dict(d) for d in kwargs.get(\"node_lists\") or []\n",
    "        ]\n",
    "        self.edge_lists = [\n",
    "            EdgeListSpec.from_dict(d) for d in kwargs.get(\"edge_lists\") or []\n",
    "        ]\n",
    "        self.community_lists = [\n",
    "            CommunityListSpec.from_dict(d) for d in kwargs.get(\"community_lists\") or []\n",
    "        ]\n",
    "        \n",
    "    @classmethod\n",
    "    def from_dict(cls, data):\n",
    "        return from_dict_generic(data, GraphSchema, cls)\n",
    "    \n",
    "    def to_dict(self):\n",
    "        return to_dict_generic(GraphSchema, self)"
   ]
  },
  {
   "cell_type": "code",
   "execution_count": null,
   "metadata": {},
   "outputs": [],
   "source": []
  },
  {
   "cell_type": "code",
   "execution_count": 11,
   "metadata": {},
   "outputs": [],
   "source": [
    "import json\n",
    "data = json.load(open(os.path.join(os.getcwd(), \"data\", \"test_graph_spec.json\"), \"r\"))"
   ]
  },
  {
   "cell_type": "code",
   "execution_count": null,
   "metadata": {},
   "outputs": [],
   "source": []
  },
  {
   "cell_type": "code",
   "execution_count": 13,
   "metadata": {
    "scrolled": false
   },
   "outputs": [
    {
     "data": {
      "text/plain": [
       "{'data_uri': 'data_uri_value',\n",
       " 'community_lists': [{'edge_labels': ['edge_group_type'],\n",
       "   'labels': ['toffee_groups'],\n",
       "   'metadata_columns': [],\n",
       "   'table_name': 'test_data_toffee_groups_list',\n",
       "   'grouping_columns': [{'hidden': False,\n",
       "     'use_as_label': False,\n",
       "     'friendly_name': 'common_group',\n",
       "     'name': 'group'}],\n",
       "   'edge_category': '4f348cf8-817d-40b9-a527-a9447869be41',\n",
       "   'edge_metadata_columns': [],\n",
       "   'index_column': {'resolution_alias': 'sweets',\n",
       "    'variable_definition': 'String',\n",
       "    'name': 'id'},\n",
       "   'name': 'toffee group nodes'}],\n",
       " 'poll': '0 0 * * *',\n",
       " 'node_lists': [{'labels': ['chocolate'],\n",
       "   'metadata_columns': [],\n",
       "   'table_name': 'test_data_chocolate_node_list',\n",
       "   'index_column': {'resolution_alias': 'chocolate',\n",
       "    'variable_definition': 'String',\n",
       "    'name': 'id'},\n",
       "   'name': 'chocolate nodes'},\n",
       "  {'labels': ['sweets'],\n",
       "   'metadata_columns': [{'hidden': False,\n",
       "     'use_as_label': False,\n",
       "     'friendly_name': 'sweetness number',\n",
       "     'variable_definition': 'String',\n",
       "     'name': 'prop'}],\n",
       "   'table_name': 'test_data_sweets_node_list',\n",
       "   'index_column': {'resolution_alias': 'sweets',\n",
       "    'variable_definition': 'String',\n",
       "    'name': 'id'},\n",
       "   'name': 'sweets nodes'},\n",
       "  {'labels': ['toffee'],\n",
       "   'metadata_columns': [{'hidden': False,\n",
       "     'use_as_label': True,\n",
       "     'friendly_name': 'sweetness number',\n",
       "     'variable_definition': 'String',\n",
       "     'name': 'prop'},\n",
       "    {'hidden': True,\n",
       "     'use_as_label': False,\n",
       "     'friendly_name': 'hidden value',\n",
       "     'variable_definition': 'String',\n",
       "     'name': 'hide'}],\n",
       "   'table_name': 'test_data_toffee_node_list',\n",
       "   'index_column': {'resolution_alias': 'id',\n",
       "    'variable_definition': 'String',\n",
       "    'name': 'id'},\n",
       "   'name': 'toffee nodes'}],\n",
       " 'edge_lists': [{'labels': ['chocolate'],\n",
       "   'metadata_columns': [],\n",
       "   'table_name': 'test_data_chocolate_edge_list',\n",
       "   'source_labels': [],\n",
       "   'edge_category': 'e62afef4-4d2a-4073-a71e-992119767d77',\n",
       "   'target_metadata_columns': [],\n",
       "   'target_column': {'variable_definition': 'String', 'name': 'chocolate_t'},\n",
       "   'source_metadata_columns': [],\n",
       "   'source_column': {'variable_definition': 'String', 'name': 'chocolate_s'},\n",
       "   'target_labels': [],\n",
       "   'directed': True,\n",
       "   'merge_same': True,\n",
       "   'name': 'chocolate_relations'},\n",
       "  {'labels': ['sweets'],\n",
       "   'metadata_columns': [],\n",
       "   'table_name': 'test_data_sweets_edge_list',\n",
       "   'source_labels': [],\n",
       "   'edge_category': 'a331d461-111e-4696-8282-6a40b047738e',\n",
       "   'target_metadata_columns': [],\n",
       "   'target_column': {'variable_definition': 'String', 'name': 'sweets_t'},\n",
       "   'source_metadata_columns': [],\n",
       "   'source_column': {'variable_definition': 'String', 'name': 'sweets_s'},\n",
       "   'target_labels': [],\n",
       "   'directed': True,\n",
       "   'merge_same': True,\n",
       "   'name': 'sweets_relations'},\n",
       "  {'labels': ['toffee'],\n",
       "   'metadata_columns': [{'hidden': False,\n",
       "     'use_as_label': False,\n",
       "     'friendly_name': 'edge_prop_friendly',\n",
       "     'variable_definition': 'String',\n",
       "     'name': 'edge_prop'},\n",
       "    {'hidden': False,\n",
       "     'use_as_label': True,\n",
       "     'friendly_name': 'edge_label',\n",
       "     'variable_definition': 'String',\n",
       "     'name': 'edge_label'},\n",
       "    {'hidden': False,\n",
       "     'use_as_label': False,\n",
       "     'variable_definition': 'String',\n",
       "     'name': 'reverse_order'}],\n",
       "   'table_name': 'test_data_toffee_edge_list',\n",
       "   'source_labels': [],\n",
       "   'edge_category': 'toffee_edge',\n",
       "   'target_metadata_columns': [],\n",
       "   'target_column': {'variable_definition': 'String', 'name': 'toffee_t'},\n",
       "   'source_metadata_columns': [{'hidden': False,\n",
       "     'use_as_label': False,\n",
       "     'friendly_name': 'edge_metadata',\n",
       "     'variable_definition': 'String',\n",
       "     'name': 'src_meta'}],\n",
       "   'source_column': {'variable_definition': 'String', 'name': 'toffee_s'},\n",
       "   'target_labels': ['is_target'],\n",
       "   'directed': True,\n",
       "   'merge_same': True,\n",
       "   'name': 'toffee_relations'},\n",
       "  {'labels': ['toffee_extended'],\n",
       "   'metadata_columns': [{'hidden': False,\n",
       "     'use_as_label': False,\n",
       "     'variable_definition': 'String',\n",
       "     'name': 'edge_prop_2'}],\n",
       "   'table_name': 'test_data_toffee_edge_list_extended',\n",
       "   'source_labels': [],\n",
       "   'edge_category': 'toffee_edge',\n",
       "   'target_metadata_columns': [],\n",
       "   'target_column': {'variable_definition': 'String', 'name': 'toffee_t'},\n",
       "   'source_metadata_columns': [],\n",
       "   'source_column': {'variable_definition': 'String', 'name': 'toffee_s'},\n",
       "   'target_labels': [],\n",
       "   'directed': True,\n",
       "   'merge_same': True,\n",
       "   'name': 'toffee_relations_extended'}],\n",
       " 'name': 'test_data'}"
      ]
     },
     "execution_count": 13,
     "metadata": {},
     "output_type": "execute_result"
    }
   ],
   "source": [
    "GraphSpec.from_dict(data).to_dict()"
   ]
  },
  {
   "cell_type": "code",
   "execution_count": null,
   "metadata": {},
   "outputs": [],
   "source": []
  },
  {
   "cell_type": "code",
   "execution_count": null,
   "metadata": {},
   "outputs": [],
   "source": []
  },
  {
   "cell_type": "code",
   "execution_count": null,
   "metadata": {},
   "outputs": [],
   "source": []
  },
  {
   "cell_type": "code",
   "execution_count": null,
   "metadata": {},
   "outputs": [],
   "source": []
  },
  {
   "cell_type": "code",
   "execution_count": 189,
   "metadata": {},
   "outputs": [
    {
     "data": {
      "text/plain": [
       "{'index_column': {'name': 'id',\n",
       "  'variable_definition': 'String',\n",
       "  'resolution_alias': 'sweets'},\n",
       " 'grouping_columns': [{'use_as_label': False,\n",
       "   'hidden': False,\n",
       "   'name': 'group',\n",
       "   'friendly_name': 'common_group'}],\n",
       " 'labels': ['toffee_groups'],\n",
       " 'table_name': 'test_data_toffee_groups_list',\n",
       " 'name': 'toffee group nodes',\n",
       " 'metadata_columns': []}"
      ]
     },
     "execution_count": 189,
     "metadata": {},
     "output_type": "execute_result"
    }
   ],
   "source": [
    "CommunityListSpec.from_dict(data[\"community_lists\"][0]).to_dict()"
   ]
  },
  {
   "cell_type": "code",
   "execution_count": 195,
   "metadata": {},
   "outputs": [
    {
     "data": {
      "text/plain": [
       "{'index_column': {'name': 'id',\n",
       "  'variable_definition': 'String',\n",
       "  'resolution_alias': 'sweets'},\n",
       " 'labels': ['sweets'],\n",
       " 'table_name': 'test_data_sweets_node_list',\n",
       " 'name': 'sweets nodes',\n",
       " 'metadata_columns': [{'variable_definition': 'String',\n",
       "   'use_as_label': False,\n",
       "   'hidden': False,\n",
       "   'name': 'prop',\n",
       "   'friendly_name': 'sweetness number'}]}"
      ]
     },
     "execution_count": 195,
     "metadata": {},
     "output_type": "execute_result"
    }
   ],
   "source": [
    "NodeListSpec.from_dict(data[\"node_lists\"][1]).to_dict()"
   ]
  },
  {
   "cell_type": "code",
   "execution_count": 177,
   "metadata": {},
   "outputs": [
    {
     "data": {
      "text/plain": [
       "{'source_column': {'variable_definition': 'String', 'name': 'chocolate_s'},\n",
       " 'name': 'chocolate_relations',\n",
       " 'labels': ['chocolate'],\n",
       " 'table_name': 'test_data_chocolate_edge_list',\n",
       " 'target_column': {'variable_definition': 'String', 'name': 'chocolate_t'}}"
      ]
     },
     "execution_count": 177,
     "metadata": {},
     "output_type": "execute_result"
    }
   ],
   "source": [
    "data[\"edge_lists\"][0]"
   ]
  },
  {
   "cell_type": "code",
   "execution_count": 182,
   "metadata": {},
   "outputs": [
    {
     "ename": "IndexError",
     "evalue": "list index out of range",
     "output_type": "error",
     "traceback": [
      "\u001b[0;31m---------------------------------------------------------------------------\u001b[0m",
      "\u001b[0;31mIndexError\u001b[0m                                Traceback (most recent call last)",
      "\u001b[0;32m<ipython-input-182-474aee04bb3b>\u001b[0m in \u001b[0;36m<module>\u001b[0;34m\u001b[0m\n\u001b[0;32m----> 1\u001b[0;31m \u001b[0mEdgeListSpec\u001b[0m\u001b[0;34m.\u001b[0m\u001b[0mfrom_dict\u001b[0m\u001b[0;34m(\u001b[0m\u001b[0mdata\u001b[0m\u001b[0;34m[\u001b[0m\u001b[0;34m\"edge_lists\"\u001b[0m\u001b[0;34m]\u001b[0m\u001b[0;34m[\u001b[0m\u001b[0;36m4\u001b[0m\u001b[0;34m]\u001b[0m\u001b[0;34m)\u001b[0m\u001b[0;34m\u001b[0m\u001b[0;34m\u001b[0m\u001b[0m\n\u001b[0m",
      "\u001b[0;31mIndexError\u001b[0m: list index out of range"
     ]
    }
   ],
   "source": [
    "EdgeListSpec.from_dict(data[\"edge_lists\"][4])"
   ]
  },
  {
   "cell_type": "code",
   "execution_count": null,
   "metadata": {},
   "outputs": [],
   "source": []
  },
  {
   "cell_type": "code",
   "execution_count": null,
   "metadata": {},
   "outputs": [],
   "source": []
  },
  {
   "cell_type": "code",
   "execution_count": null,
   "metadata": {},
   "outputs": [],
   "source": []
  },
  {
   "cell_type": "code",
   "execution_count": null,
   "metadata": {},
   "outputs": [],
   "source": []
  },
  {
   "cell_type": "code",
   "execution_count": null,
   "metadata": {},
   "outputs": [],
   "source": []
  }
 ],
 "metadata": {
  "kernelspec": {
   "display_name": "Python 3",
   "language": "python",
   "name": "python3"
  },
  "language_info": {
   "codemirror_mode": {
    "name": "ipython",
    "version": 3
   },
   "file_extension": ".py",
   "mimetype": "text/x-python",
   "name": "python",
   "nbconvert_exporter": "python",
   "pygments_lexer": "ipython3",
   "version": "3.6.8"
  }
 },
 "nbformat": 4,
 "nbformat_minor": 2
}
