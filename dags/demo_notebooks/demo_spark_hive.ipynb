{
 "cells": [
  {
   "cell_type": "code",
   "execution_count": 1,
   "metadata": {},
   "outputs": [],
   "source": [
    "import os\n",
    "os.environ[\"PYSPARK_PYTHON\"] = \"python2\""
   ]
  },
  {
   "cell_type": "code",
   "execution_count": 2,
   "metadata": {},
   "outputs": [],
   "source": [
    "import findspark\n",
    "findspark.init('/usr/local/spark')"
   ]
  },
  {
   "cell_type": "code",
   "execution_count": 3,
   "metadata": {},
   "outputs": [],
   "source": [
    "import sys\n",
    "from operator import add\n",
    "\n",
    "from pyspark.sql import HiveContext, SQLContext, SparkSession\n",
    "from pyspark import SparkContext, SparkConf"
   ]
  },
  {
   "cell_type": "code",
   "execution_count": 4,
   "metadata": {},
   "outputs": [],
   "source": [
    "sc = SparkContext.getOrCreate()"
   ]
  },
  {
   "cell_type": "code",
   "execution_count": 5,
   "metadata": {},
   "outputs": [
    {
     "data": {
      "text/plain": [
       "[(u'spark.eventLog.enabled', u'true'),\n",
       " (u'spark.eventLog.dir', u'hdfs://hadoop-master:9000/eventLogging'),\n",
       " (u'spark.app.id', u'local-1576552315512'),\n",
       " (u'spark.executor.id', u'driver'),\n",
       " (u'spark.app.name', u'pyspark-shell'),\n",
       " (u'spark.sql.warehouse.dir', u'/user/hive/warehouse'),\n",
       " (u'spark.driver.port', u'36043'),\n",
       " (u'spark.rdd.compress', u'True'),\n",
       " (u'spark.serializer.objectStreamReset', u'100'),\n",
       " (u'spark.driver.host', u'58d5578c5b1a'),\n",
       " (u'spark.master', u'local[*]'),\n",
       " (u'spark.history.fs.logDirectory', u'hdfs://hadoop-master:9000/eventLogging'),\n",
       " (u'spark.submit.deployMode', u'client'),\n",
       " (u'spark.ui.showConsoleProgress', u'true')]"
      ]
     },
     "execution_count": 5,
     "metadata": {},
     "output_type": "execute_result"
    }
   ],
   "source": [
    "c = sc.getConf()\n",
    "c.getAll()"
   ]
  },
  {
   "cell_type": "code",
   "execution_count": 6,
   "metadata": {},
   "outputs": [
    {
     "data": {
      "text/plain": [
       "[3, 6, 9]"
      ]
     },
     "execution_count": 6,
     "metadata": {},
     "output_type": "execute_result"
    }
   ],
   "source": [
    "sc.parallelize([1,2,3]).map(lambda x: x*3).collect()"
   ]
  },
  {
   "cell_type": "code",
   "execution_count": 7,
   "metadata": {},
   "outputs": [
    {
     "data": {
      "text/plain": [
       "['1.3.1', '1.3.1', '1.3.1']"
      ]
     },
     "execution_count": 7,
     "metadata": {},
     "output_type": "execute_result"
    }
   ],
   "source": [
    "def testFinnetImport():\n",
    "    import neo4j\n",
    "    return neo4j.__version__\n",
    "\n",
    "sc.parallelize([1,2,3]).map(lambda x: testFinnetImport()).collect()"
   ]
  },
  {
   "cell_type": "code",
   "execution_count": 8,
   "metadata": {},
   "outputs": [
    {
     "name": "stdout",
     "output_type": "stream",
     "text": [
      "+---+---+\n",
      "| _1| _2|\n",
      "+---+---+\n",
      "|  1|  2|\n",
      "|  3|  4|\n",
      "+---+---+\n",
      "\n"
     ]
    }
   ],
   "source": [
    "spark = SparkSession(sc)\n",
    "\n",
    "df = spark.createDataFrame([(1, 2), (3, 4)])\n",
    "df.show()"
   ]
  },
  {
   "cell_type": "code",
   "execution_count": 9,
   "metadata": {},
   "outputs": [],
   "source": [
    "df.registerTempTable(\"temp\")"
   ]
  },
  {
   "cell_type": "code",
   "execution_count": 10,
   "metadata": {},
   "outputs": [
    {
     "name": "stdout",
     "output_type": "stream",
     "text": [
      "Deleted /user/hive/warehouse/test_save\r\n"
     ]
    }
   ],
   "source": [
    "!hdfs dfs -rm -r /user/hive/warehouse/test_save"
   ]
  },
  {
   "cell_type": "code",
   "execution_count": 11,
   "metadata": {},
   "outputs": [],
   "source": [
    "df.write.saveAsTable(\"test_save\")"
   ]
  },
  {
   "cell_type": "code",
   "execution_count": 12,
   "metadata": {},
   "outputs": [
    {
     "name": "stdout",
     "output_type": "stream",
     "text": [
      "+--------+---------+-----------+\n",
      "|database|tableName|isTemporary|\n",
      "+--------+---------+-----------+\n",
      "| default|test_save|      false|\n",
      "|        |     temp|       true|\n",
      "+--------+---------+-----------+\n",
      "\n"
     ]
    }
   ],
   "source": [
    "spark.sql(\"\"\"SHOW TABLES\"\"\").show()"
   ]
  },
  {
   "cell_type": "code",
   "execution_count": 13,
   "metadata": {},
   "outputs": [
    {
     "name": "stdout",
     "output_type": "stream",
     "text": [
      "Found 3 items\r\n",
      "-rw-r--r--   3 hadoop supergroup        661 2019-12-17 03:12 /user/hive/warehouse/test_save/part-00001-7aaa8324-0d99-4fba-a512-024be1722d80-c000.snappy.parquet\r\n",
      "-rw-r--r--   3 hadoop supergroup        661 2019-12-17 03:12 /user/hive/warehouse/test_save/part-00000-7aaa8324-0d99-4fba-a512-024be1722d80-c000.snappy.parquet\r\n",
      "-rw-r--r--   3 hadoop supergroup          0 2019-12-17 03:12 /user/hive/warehouse/test_save/_SUCCESS\r\n"
     ]
    }
   ],
   "source": [
    "!hdfs dfs -ls -r /user/hive/warehouse/test_save"
   ]
  },
  {
   "cell_type": "code",
   "execution_count": 14,
   "metadata": {},
   "outputs": [],
   "source": [
    "sc.stop()"
   ]
  },
  {
   "cell_type": "code",
   "execution_count": 15,
   "metadata": {},
   "outputs": [
    {
     "name": "stdout",
     "output_type": "stream",
     "text": [
      "+--------+---------+-----------+\n",
      "|database|tableName|isTemporary|\n",
      "+--------+---------+-----------+\n",
      "+--------+---------+-----------+\n",
      "\n"
     ]
    }
   ],
   "source": [
    "sc2 = SparkContext.getOrCreate()\n",
    "spark = SparkSession(sc2)\n",
    "\n",
    "spark.sql(\"\"\"SHOW TABLES\"\"\").show()"
   ]
  },
  {
   "cell_type": "code",
   "execution_count": 16,
   "metadata": {},
   "outputs": [
    {
     "name": "stdout",
     "output_type": "stream",
     "text": [
      "Found 3 items\r\n",
      "-rw-r--r--   3 hadoop supergroup        661 2019-12-17 03:12 /user/hive/warehouse/test_save/part-00001-7aaa8324-0d99-4fba-a512-024be1722d80-c000.snappy.parquet\r\n",
      "-rw-r--r--   3 hadoop supergroup        661 2019-12-17 03:12 /user/hive/warehouse/test_save/part-00000-7aaa8324-0d99-4fba-a512-024be1722d80-c000.snappy.parquet\r\n",
      "-rw-r--r--   3 hadoop supergroup          0 2019-12-17 03:12 /user/hive/warehouse/test_save/_SUCCESS\r\n"
     ]
    }
   ],
   "source": [
    "!hdfs dfs -ls -r /user/hive/warehouse/test_save"
   ]
  },
  {
   "cell_type": "code",
   "execution_count": 17,
   "metadata": {},
   "outputs": [
    {
     "data": {
      "text/plain": [
       "{'SPARK_HOME': '/usr/local/spark', 'KERNEL_LAUNCH_TIMEOUT': '40', 'HDFS_SECONDARYNAMENODE_USER': 'root', 'PATH': '/bin:/usr/local/sbin:/usr/local/bin:/usr/sbin:/usr/bin:/sbin:/usr/local/hadoop/bin:/usr/local/spark/bin:/usr/lib/jvm/java-1.8.0-openjdk/bin:/usr/local/hive/bin', 'HOME': '/home/hadoop', 'TERM': 'xterm-color', 'HDFS_DATANODE_USER': 'root', 'YARN_RESOURCEMANAGER_USER': 'root', 'HIVE_HOME': '/usr/local/hive', 'JAVA_HOME': '/usr/lib/jvm/java-1.8.0-openjdk', 'JPY_PARENT_PID': '821', 'HIVE_CONF_DIR': '/usr/local/hive/conf', 'GIT_PAGER': 'cat', 'YARN_NODEMANAGER_USER': 'root', 'HADOOP_CONF_DIR': '/usr/local/hadoop/etc/hadoop', 'HADOOP_SSH_OPTS': '-p 22', 'HDFS_NAMENODE_USER': 'root', 'MPLBACKEND': 'module://ipykernel.pylab.backend_inline', 'HADOOP_HOME': '/usr/local/hadoop', 'HOSTNAME': '58d5578c5b1a', 'CLICOLOR': '1', 'PYSPARK_PYTHON': 'python2', 'PAGER': 'cat'}"
      ]
     },
     "execution_count": 17,
     "metadata": {},
     "output_type": "execute_result"
    }
   ],
   "source": [
    "os.environ"
   ]
  },
  {
   "cell_type": "code",
   "execution_count": 18,
   "metadata": {},
   "outputs": [],
   "source": [
    "### What....?"
   ]
  },
  {
   "cell_type": "code",
   "execution_count": 19,
   "metadata": {},
   "outputs": [
    {
     "data": {
      "text/plain": [
       "[(u'spark.eventLog.enabled', u'true'),\n",
       " (u'spark.eventLog.dir', u'hdfs://hadoop-master:9000/eventLogging'),\n",
       " (u'spark.app.id', u'local-1576552333486'),\n",
       " (u'spark.executor.id', u'driver'),\n",
       " (u'spark.app.name', u'pyspark-shell'),\n",
       " (u'spark.sql.warehouse.dir', u'/user/hive/warehouse'),\n",
       " (u'spark.rdd.compress', u'True'),\n",
       " (u'spark.serializer.objectStreamReset', u'100'),\n",
       " (u'spark.driver.port', u'45371'),\n",
       " (u'spark.master', u'local[*]'),\n",
       " (u'spark.driver.host', u'58d5578c5b1a'),\n",
       " (u'spark.submit.deployMode', u'client'),\n",
       " (u'spark.history.fs.logDirectory', u'hdfs://hadoop-master:9000/eventLogging'),\n",
       " (u'spark.ui.showConsoleProgress', u'true')]"
      ]
     },
     "execution_count": 19,
     "metadata": {},
     "output_type": "execute_result"
    }
   ],
   "source": [
    "c = sc2.getConf()\n",
    "c.getAll()"
   ]
  },
  {
   "cell_type": "code",
   "execution_count": null,
   "metadata": {},
   "outputs": [],
   "source": []
  }
 ],
 "metadata": {
  "kernelspec": {
   "display_name": "finnet-pipeline (Python 2)",
   "language": "python",
   "name": "finnet-pipeline"
  },
  "language_info": {
   "codemirror_mode": {
    "name": "ipython",
    "version": 2
   },
   "file_extension": ".py",
   "mimetype": "text/x-python",
   "name": "python",
   "nbconvert_exporter": "python",
   "pygments_lexer": "ipython2",
   "version": "2.7.5"
  }
 },
 "nbformat": 4,
 "nbformat_minor": 2
}
