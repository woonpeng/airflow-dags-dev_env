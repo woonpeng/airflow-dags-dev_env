{
 "cells": [
  {
   "cell_type": "code",
   "execution_count": 1,
   "metadata": {},
   "outputs": [],
   "source": [
    "### Your neo4j server needs to be running!"
   ]
  },
  {
   "cell_type": "code",
   "execution_count": 2,
   "metadata": {},
   "outputs": [],
   "source": [
    "from neo4j.v1 import GraphDatabase\n",
    "\n",
    "uri = \"bolt://neo4j:7687\"\n",
    "driver = GraphDatabase.driver(uri, auth=(\"neo4j\", \"test\"))"
   ]
  },
  {
   "cell_type": "code",
   "execution_count": 3,
   "metadata": {},
   "outputs": [
    {
     "data": {
      "text/plain": [
       "<neo4j.v1.result.BoltStatementResult at 0x7f4bf00f7410>"
      ]
     },
     "execution_count": 3,
     "metadata": {},
     "output_type": "execute_result"
    }
   ],
   "source": [
    "driver.session().run(\n",
    "    \"\"\"\n",
    "    MERGE (nAlice:User {id:'Alice'})\n",
    "    MERGE (nBridget:User {id:'Bridget'})\n",
    "    MERGE (nCharles:User {id:'Charles'})\n",
    "    MERGE (nDoug:User {id:'Doug'})\n",
    "    MERGE (nMark:User {id:'Mark'})\n",
    "    MERGE (nMichael:User {id:'Michael'})\n",
    "\n",
    "    MERGE (nAlice)-[:MANAGE]->(nBridget)\n",
    "    MERGE (nAlice)-[:MANAGE]->(nCharles)\n",
    "    MERGE (nAlice)-[:MANAGE]->(nDoug)\n",
    "    MERGE (nMark)-[:MANAGE]->(nAlice)\n",
    "    MERGE (nCharles)-[:MANAGE]->(nMichael);\n",
    "    \"\"\"\n",
    ")"
   ]
  },
  {
   "cell_type": "code",
   "execution_count": 4,
   "metadata": {},
   "outputs": [
    {
     "name": "stdout",
     "output_type": "stream",
     "text": [
      "<Record x=<Node id=0 labels=set([u'User']) properties={u'id': u'Alice'}>>\n",
      "<Record x=<Node id=1 labels=set([u'User']) properties={u'id': u'Bridget'}>>\n",
      "<Record x=<Node id=2 labels=set([u'User']) properties={u'id': u'Charles'}>>\n",
      "<Record x=<Node id=3 labels=set([u'User']) properties={u'id': u'Doug'}>>\n",
      "<Record x=<Node id=4 labels=set([u'User']) properties={u'id': u'Mark'}>>\n",
      "<Record x=<Node id=5 labels=set([u'User']) properties={u'id': u'Michael'}>>\n"
     ]
    }
   ],
   "source": [
    "cqlNodeQuery = \"MATCH (x: User) RETURN x\"\n",
    "nodes = driver.session().run(cqlNodeQuery)\n",
    "\n",
    "for node in nodes:\n",
    "    print(node)"
   ]
  },
  {
   "cell_type": "code",
   "execution_count": 5,
   "metadata": {},
   "outputs": [],
   "source": [
    "### Connect with py2neo\n",
    "from py2neo import Graph\n",
    "graph = Graph(uri, user=\"neo4j\", password=\"test\")"
   ]
  },
  {
   "cell_type": "code",
   "execution_count": 6,
   "metadata": {},
   "outputs": [
    {
     "data": {
      "application/javascript": [
       "$(\"head\").append($(\"<link/>\").attr({\n",
       "  rel:  \"stylesheet\",\n",
       "  type: \"text/css\",\n",
       "  href: \"https://cdnjs.cloudflare.com/ajax/libs/vis/4.8.2/vis.css\"\n",
       "}));\n",
       "require.config({     paths: {         vis: '//cdnjs.cloudflare.com/ajax/libs/vis/4.8.2/vis.min'     } }); require(['vis'], function(vis) {  window.vis = vis; }); "
      ],
      "text/plain": [
       "<IPython.core.display.Javascript object>"
      ]
     },
     "metadata": {},
     "output_type": "display_data"
    },
    {
     "data": {
      "text/html": [
       "<div id=\"080f0c76-5cba-41e4-a5de-059bd69709dd\" style=\"height: 400px;\"></div>\n",
       "\n",
       "<script type=\"text/javascript\">\n",
       "\n",
       "    var nodes = [{\"title\": \"{u'id': u'Charles'}\", \"group\": \"User\", \"id\": 2, \"label\": \"Charles\"}, {\"title\": \"{u'id': u'Michael'}\", \"group\": \"User\", \"id\": 5, \"label\": \"Michael\"}, {\"title\": \"{u'id': u'Mark'}\", \"group\": \"User\", \"id\": 4, \"label\": \"Mark\"}, {\"title\": \"{u'id': u'Alice'}\", \"group\": \"User\", \"id\": 0, \"label\": \"Alice\"}, {\"title\": \"{u'id': u'Doug'}\", \"group\": \"User\", \"id\": 3, \"label\": \"Doug\"}, {\"title\": \"{u'id': u'Bridget'}\", \"group\": \"User\", \"id\": 1, \"label\": \"Bridget\"}];\n",
       "    var edges = [{\"to\": 5, \"from\": 2, \"label\": \"MANAGE\"}, {\"to\": 0, \"from\": 4, \"label\": \"MANAGE\"}, {\"to\": 3, \"from\": 0, \"label\": \"MANAGE\"}, {\"to\": 2, \"from\": 0, \"label\": \"MANAGE\"}, {\"to\": 1, \"from\": 0, \"label\": \"MANAGE\"}];\n",
       "\n",
       "    var container = document.getElementById(\"080f0c76-5cba-41e4-a5de-059bd69709dd\");\n",
       "\n",
       "    var data = {\n",
       "        nodes: nodes,\n",
       "        edges: edges\n",
       "    };\n",
       "\n",
       "    var options = {\n",
       "    nodes: {\n",
       "        shape: 'dot',\n",
       "        size: 25,\n",
       "        font: {\n",
       "            size: 14\n",
       "        }\n",
       "    },\n",
       "    edges: {\n",
       "        font: {\n",
       "            size: 14,\n",
       "            align: 'middle'\n",
       "        },\n",
       "        color: 'gray',\n",
       "        arrows: {\n",
       "            to: {\n",
       "                enabled: true,\n",
       "                scaleFactor: 0.5\n",
       "            }\n",
       "        },\n",
       "        smooth: {\n",
       "            enabled: false\n",
       "        }\n",
       "    },\n",
       "    physics: {\n",
       "        enabled: true\n",
       "        }\n",
       "    };\n",
       "\n",
       "    var network = new vis.Network(container, data, options);\n",
       "\n",
       "</script>\n"
      ],
      "text/plain": [
       "<IPython.core.display.HTML object>"
      ]
     },
     "execution_count": 6,
     "metadata": {},
     "output_type": "execute_result"
    }
   ],
   "source": [
    "### Plot with neo4jupyter\n",
    "import neo4jupyter\n",
    "neo4jupyter.init_notebook_mode()\n",
    "\n",
    "neo4jupyter.draw(graph, {\"User\": \"id\"})"
   ]
  },
  {
   "cell_type": "code",
   "execution_count": null,
   "metadata": {},
   "outputs": [],
   "source": []
  }
 ],
 "metadata": {
  "kernelspec": {
   "display_name": "finnet-pipeline (Python 2)",
   "language": "python",
   "name": "finnet-pipeline"
  },
  "language_info": {
   "codemirror_mode": {
    "name": "ipython",
    "version": 2
   },
   "file_extension": ".py",
   "mimetype": "text/x-python",
   "name": "python",
   "nbconvert_exporter": "python",
   "pygments_lexer": "ipython2",
   "version": "2.7.5"
  }
 },
 "nbformat": 4,
 "nbformat_minor": 2
}
